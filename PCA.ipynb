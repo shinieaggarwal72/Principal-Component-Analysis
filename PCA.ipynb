{
  "nbformat": 4,
  "nbformat_minor": 0,
  "metadata": {
    "colab": {
      "provenance": [],
      "authorship_tag": "ABX9TyPNsqhDpWSZNNM3SP4Cj919",
      "include_colab_link": true
    },
    "kernelspec": {
      "name": "python3",
      "display_name": "Python 3"
    },
    "language_info": {
      "name": "python"
    }
  },
  "cells": [
    {
      "cell_type": "markdown",
      "metadata": {
        "id": "view-in-github",
        "colab_type": "text"
      },
      "source": [
        "<a href=\"https://colab.research.google.com/github/shinieaggarwal72/Principal-Component-Analysis/blob/main/PCA.ipynb\" target=\"_parent\"><img src=\"https://colab.research.google.com/assets/colab-badge.svg\" alt=\"Open In Colab\"/></a>"
      ]
    },
    {
      "cell_type": "code",
      "execution_count": 1,
      "metadata": {
        "id": "tCiGkXSfTgax"
      },
      "outputs": [],
      "source": [
        "import numpy as np\n",
        "import pandas as pd"
      ]
    },
    {
      "cell_type": "code",
      "source": [
        "import csv\n",
        "\n",
        "with open('/content/banknote_dataset.txt', 'r') as in_file:\n",
        "    stripped = (line.strip() for line in in_file)\n",
        "    lines = (line.split(\",\") for line in stripped if line)\n",
        "    with open('data.csv', 'w') as out_file:\n",
        "        writer = csv.writer(out_file)\n",
        "        writer.writerow(('variance', 'skewness', 'kurtosis', 'entropy', 'class'))\n",
        "        writer.writerows(lines)"
      ],
      "metadata": {
        "id": "6abHFrAhVcMR"
      },
      "execution_count": 2,
      "outputs": []
    },
    {
      "cell_type": "code",
      "source": [
        "df = pd.read_csv('/content/data.csv')"
      ],
      "metadata": {
        "id": "uPDDIvk1W8p7"
      },
      "execution_count": 3,
      "outputs": []
    },
    {
      "cell_type": "code",
      "source": [
        "print(df.head)"
      ],
      "metadata": {
        "colab": {
          "base_uri": "https://localhost:8080/"
        },
        "id": "n44DusePXAfL",
        "outputId": "04d5df84-c724-48b0-bbdd-e77ae82fad57"
      },
      "execution_count": 4,
      "outputs": [
        {
          "output_type": "stream",
          "name": "stdout",
          "text": [
            "<bound method NDFrame.head of       variance  skewness  kurtosis  entropy  class\n",
            "0      3.62160   8.66610   -2.8073 -0.44699      0\n",
            "1      4.54590   8.16740   -2.4586 -1.46210      0\n",
            "2      3.86600  -2.63830    1.9242  0.10645      0\n",
            "3      3.45660   9.52280   -4.0112 -3.59440      0\n",
            "4      0.32924  -4.45520    4.5718 -0.98880      0\n",
            "...        ...       ...       ...      ...    ...\n",
            "1367   0.40614   1.34920   -1.4501 -0.55949      1\n",
            "1368  -1.38870  -4.87730    6.4774  0.34179      1\n",
            "1369  -3.75030 -13.45860   17.5932 -2.77710      1\n",
            "1370  -3.56370  -8.38270   12.3930 -1.28230      1\n",
            "1371  -2.54190  -0.65804    2.6842  1.19520      1\n",
            "\n",
            "[1372 rows x 5 columns]>\n"
          ]
        }
      ]
    },
    {
      "cell_type": "code",
      "source": [
        "w = df['variance']"
      ],
      "metadata": {
        "id": "-VCV_lKCXcBy"
      },
      "execution_count": 5,
      "outputs": []
    },
    {
      "cell_type": "code",
      "source": [
        "print(w)"
      ],
      "metadata": {
        "colab": {
          "base_uri": "https://localhost:8080/"
        },
        "id": "bklmU4k1ahKh",
        "outputId": "6348e473-1e1f-49e3-958c-124b01f42cff"
      },
      "execution_count": 6,
      "outputs": [
        {
          "output_type": "stream",
          "name": "stdout",
          "text": [
            "0       3.62160\n",
            "1       4.54590\n",
            "2       3.86600\n",
            "3       3.45660\n",
            "4       0.32924\n",
            "         ...   \n",
            "1367    0.40614\n",
            "1368   -1.38870\n",
            "1369   -3.75030\n",
            "1370   -3.56370\n",
            "1371   -2.54190\n",
            "Name: variance, Length: 1372, dtype: float64\n"
          ]
        }
      ]
    },
    {
      "cell_type": "code",
      "source": [
        "w_mean = np.mean(w)\n",
        "print(w_mean)"
      ],
      "metadata": {
        "colab": {
          "base_uri": "https://localhost:8080/"
        },
        "id": "73sRSfVbakrI",
        "outputId": "54412688-b490-4eda-9469-d01dbccbf23b"
      },
      "execution_count": 7,
      "outputs": [
        {
          "output_type": "stream",
          "name": "stdout",
          "text": [
            "0.4337352570699707\n"
          ]
        }
      ]
    },
    {
      "cell_type": "code",
      "source": [
        "x = df['skewness']\n",
        "x_mean = np.mean(x)\n",
        "print(x_mean)"
      ],
      "metadata": {
        "colab": {
          "base_uri": "https://localhost:8080/"
        },
        "id": "rVbfa-KaatRk",
        "outputId": "2bc33309-91e6-49ac-a0d2-487754d9727a"
      },
      "execution_count": 8,
      "outputs": [
        {
          "output_type": "stream",
          "name": "stdout",
          "text": [
            "1.9223531206393585\n"
          ]
        }
      ]
    },
    {
      "cell_type": "code",
      "source": [
        "y = df['kurtosis']\n",
        "y_mean = np.mean(y)\n",
        "print(y_mean)"
      ],
      "metadata": {
        "colab": {
          "base_uri": "https://localhost:8080/"
        },
        "id": "9wf5j3D2a5h2",
        "outputId": "03fe1daf-2dde-4331-d6ce-e924ec13e0dc"
      },
      "execution_count": 9,
      "outputs": [
        {
          "output_type": "stream",
          "name": "stdout",
          "text": [
            "1.3976271172667638\n"
          ]
        }
      ]
    },
    {
      "cell_type": "code",
      "source": [
        "z = df['entropy']\n",
        "z_mean = np.mean(z)\n",
        "print(z_mean)"
      ],
      "metadata": {
        "colab": {
          "base_uri": "https://localhost:8080/"
        },
        "id": "2M-Y1GqKa9d2",
        "outputId": "84282e7c-b072-4ff3-9941-68d13922a89c"
      },
      "execution_count": 10,
      "outputs": [
        {
          "output_type": "stream",
          "name": "stdout",
          "text": [
            "-1.1916565200437317\n"
          ]
        }
      ]
    },
    {
      "cell_type": "code",
      "source": [
        "res = df['class']\n",
        "res_mean = np.mean(res)\n",
        "print(res_mean)"
      ],
      "metadata": {
        "colab": {
          "base_uri": "https://localhost:8080/"
        },
        "id": "HcqDkAAjNouQ",
        "outputId": "f431c51d-e9fc-4be2-f815-58119679f979"
      },
      "execution_count": 45,
      "outputs": [
        {
          "output_type": "stream",
          "name": "stdout",
          "text": [
            "0.4446064139941691\n"
          ]
        }
      ]
    },
    {
      "cell_type": "code",
      "source": [
        "w = w - w_mean\n",
        "x = x - x_mean\n",
        "y = y - y_mean\n",
        "z = z - z_mean"
      ],
      "metadata": {
        "id": "8wHqO4RicnAT"
      },
      "execution_count": 11,
      "outputs": []
    },
    {
      "cell_type": "code",
      "source": [
        "cov_ww = 0\n",
        "for i in range(0,df.shape[0]):\n",
        "  cov_ww += (w[i]-w_mean)*(w[i]-w_mean)/df.shape[0]\n",
        "\n",
        "print(cov_ww)"
      ],
      "metadata": {
        "colab": {
          "base_uri": "https://localhost:8080/"
        },
        "id": "7CYTFt1fbNgL",
        "outputId": "aa152f19-14c1-49da-a679-5b6cc093db08"
      },
      "execution_count": 12,
      "outputs": [
        {
          "output_type": "stream",
          "name": "stdout",
          "text": [
            "8.263535235460859\n"
          ]
        }
      ]
    },
    {
      "cell_type": "code",
      "source": [
        "cov_wx = 0\n",
        "for i in range(0,df.shape[0]):\n",
        "  cov_wx += (w[i]-w_mean)*(x[i]-x_mean)/df.shape[0]\n",
        "\n",
        "print(cov_wx)"
      ],
      "metadata": {
        "colab": {
          "base_uri": "https://localhost:8080/"
        },
        "id": "pKdh-ZvUddms",
        "outputId": "26fc55a4-0ca4-4c9e-9a9b-b97d3d19cd16"
      },
      "execution_count": 13,
      "outputs": [
        {
          "output_type": "stream",
          "name": "stdout",
          "text": [
            "5.235664489039956\n"
          ]
        }
      ]
    },
    {
      "cell_type": "code",
      "source": [
        "cov_wy = 0\n",
        "for i in range(0,df.shape[0]):\n",
        "  cov_wy += (w[i]-w_mean)*(y[i]-y_mean)/df.shape[0]\n",
        "\n",
        "print(cov_wy)"
      ],
      "metadata": {
        "colab": {
          "base_uri": "https://localhost:8080/"
        },
        "id": "Bt1OMCMVd-3J",
        "outputId": "573a3e17-8f42-4c41-fba3-277bc4c4c2c9"
      },
      "execution_count": 14,
      "outputs": [
        {
          "output_type": "stream",
          "name": "stdout",
          "text": [
            "-4.056721992337697\n"
          ]
        }
      ]
    },
    {
      "cell_type": "code",
      "source": [
        "cov_wz = 0\n",
        "for i in range(0,df.shape[0]):\n",
        "  cov_wz += (w[i]-w_mean)*(z[i]-z_mean)/df.shape[0]\n",
        "\n",
        "print(cov_wz)"
      ],
      "metadata": {
        "colab": {
          "base_uri": "https://localhost:8080/"
        },
        "id": "7aq7yqr9eEPM",
        "outputId": "69d0fb94-72da-4064-d2c0-09f3796c3d26"
      },
      "execution_count": 15,
      "outputs": [
        {
          "output_type": "stream",
          "name": "stdout",
          "text": [
            "1.1352694663509812\n"
          ]
        }
      ]
    },
    {
      "cell_type": "code",
      "source": [
        "cov_xw = cov_wx"
      ],
      "metadata": {
        "id": "pSxeR7IreTcI"
      },
      "execution_count": 16,
      "outputs": []
    },
    {
      "cell_type": "code",
      "source": [
        "cov_xx = 0\n",
        "for i in range(0,df.shape[0]):\n",
        "  cov_xx += (x[i]-x_mean)*(x[i]-x_mean)/df.shape[0]\n",
        "\n",
        "print(cov_xx)"
      ],
      "metadata": {
        "colab": {
          "base_uri": "https://localhost:8080/"
        },
        "id": "yMDCm2-neJcQ",
        "outputId": "9e790433-fe35-461f-bd3f-2a3a6ec7b1ad"
      },
      "execution_count": 17,
      "outputs": [
        {
          "output_type": "stream",
          "name": "stdout",
          "text": [
            "38.11604499772443\n"
          ]
        }
      ]
    },
    {
      "cell_type": "code",
      "source": [
        "cov_xy = 0\n",
        "for i in range(0,df.shape[0]):\n",
        "  cov_xy += (x[i]-x_mean)*(y[i]-y_mean)/df.shape[0]\n",
        "\n",
        "print(cov_xy)"
      ],
      "metadata": {
        "colab": {
          "base_uri": "https://localhost:8080/"
        },
        "id": "muuYNtNaeQQI",
        "outputId": "bcc41e4b-4edf-474b-a7fe-9419ff8cc056"
      },
      "execution_count": 18,
      "outputs": [
        {
          "output_type": "stream",
          "name": "stdout",
          "text": [
            "-17.20387813130577\n"
          ]
        }
      ]
    },
    {
      "cell_type": "code",
      "source": [
        "cov_xz = 0\n",
        "for i in range(0,df.shape[0]):\n",
        "  cov_xz += (x[i]-x_mean)*(z[i]-z_mean)/df.shape[0]\n",
        "\n",
        "print(cov_xz)"
      ],
      "metadata": {
        "colab": {
          "base_uri": "https://localhost:8080/"
        },
        "id": "VJDyHgXfefbg",
        "outputId": "8fd307a1-7947-4766-dd33-f25b8fdd2619"
      },
      "execution_count": 19,
      "outputs": [
        {
          "output_type": "stream",
          "name": "stdout",
          "text": [
            "-8.776087285084108\n"
          ]
        }
      ]
    },
    {
      "cell_type": "code",
      "source": [
        "cov_yw = cov_wy"
      ],
      "metadata": {
        "id": "W46A89SteoVh"
      },
      "execution_count": 20,
      "outputs": []
    },
    {
      "cell_type": "code",
      "source": [
        "cov_yx = cov_xy"
      ],
      "metadata": {
        "id": "5wCMEQmpesIC"
      },
      "execution_count": 21,
      "outputs": []
    },
    {
      "cell_type": "code",
      "source": [
        "cov_yy = 0\n",
        "for i in range(0,df.shape[0]):\n",
        "  cov_yy += (y[i]-y_mean)*(y[i]-y_mean)/df.shape[0]\n",
        "\n",
        "print(cov_yy)"
      ],
      "metadata": {
        "colab": {
          "base_uri": "https://localhost:8080/"
        },
        "id": "7G8iK6lvel-E",
        "outputId": "c895877b-0c21-46bd-e9e3-dd42e1e25c57"
      },
      "execution_count": 22,
      "outputs": [
        {
          "output_type": "stream",
          "name": "stdout",
          "text": [
            "20.516181316006065\n"
          ]
        }
      ]
    },
    {
      "cell_type": "code",
      "source": [
        "cov_yz = 0\n",
        "for i in range(0,df.shape[0]):\n",
        "  cov_yz += (y[i]-y_mean)*(z[i]-z_mean)/df.shape[0]\n",
        "\n",
        "print(cov_yz)"
      ],
      "metadata": {
        "colab": {
          "base_uri": "https://localhost:8080/"
        },
        "id": "Q7Ipiau4fKYS",
        "outputId": "0a3b5857-9603-495a-d3a1-28fd8feec8e0"
      },
      "execution_count": 23,
      "outputs": [
        {
          "output_type": "stream",
          "name": "stdout",
          "text": [
            "1.2196454189754953\n"
          ]
        }
      ]
    },
    {
      "cell_type": "code",
      "source": [
        "cov_zw = cov_wz\n",
        "cov_zx = cov_xz\n",
        "cov_zy = cov_yz"
      ],
      "metadata": {
        "id": "AtuGfeoifZbD"
      },
      "execution_count": 24,
      "outputs": []
    },
    {
      "cell_type": "code",
      "source": [
        "\n",
        "cov_zz = 0\n",
        "for i in range(0,df.shape[0]):\n",
        "  cov_zz += (z[i]-z_mean)*(z[i]-z_mean)/df.shape[0]\n",
        "\n",
        "print(cov_zz)"
      ],
      "metadata": {
        "colab": {
          "base_uri": "https://localhost:8080/"
        },
        "id": "XJrckE-PfQBK",
        "outputId": "516b95fa-ee3e-4736-8f65-306032b9e0c9"
      },
      "execution_count": 25,
      "outputs": [
        {
          "output_type": "stream",
          "name": "stdout",
          "text": [
            "5.831084077217092\n"
          ]
        }
      ]
    },
    {
      "cell_type": "code",
      "source": [
        "cov_matrix = [[cov_ww,cov_wx,cov_wy,cov_wz],[cov_xw,cov_xx,cov_xy,cov_xz],[cov_yw,cov_yx,cov_yy,cov_yz],[cov_zw,cov_zx,cov_zy,cov_zz]]\n",
        "print(cov_matrix)"
      ],
      "metadata": {
        "colab": {
          "base_uri": "https://localhost:8080/"
        },
        "id": "SAk48OxzfbP-",
        "outputId": "a96e011a-f8ab-44a2-89c0-07bf2af26ec4"
      },
      "execution_count": 26,
      "outputs": [
        {
          "output_type": "stream",
          "name": "stdout",
          "text": [
            "[[8.263535235460859, 5.235664489039956, -4.056721992337697, 1.1352694663509812], [5.235664489039956, 38.11604499772443, -17.20387813130577, -8.776087285084108], [-4.056721992337697, -17.20387813130577, 20.516181316006065, 1.2196454189754953], [1.1352694663509812, -8.776087285084108, 1.2196454189754953, 5.831084077217092]]\n"
          ]
        }
      ]
    },
    {
      "cell_type": "code",
      "source": [
        "iden_mat = np.eye(4)\n",
        "print(iden_mat)"
      ],
      "metadata": {
        "colab": {
          "base_uri": "https://localhost:8080/"
        },
        "id": "hV2uCJjzfphg",
        "outputId": "51c87b83-feb4-4ddd-8bdf-c5c6d43549f5"
      },
      "execution_count": 27,
      "outputs": [
        {
          "output_type": "stream",
          "name": "stdout",
          "text": [
            "[[1. 0. 0. 0.]\n",
            " [0. 1. 0. 0.]\n",
            " [0. 0. 1. 0.]\n",
            " [0. 0. 0. 1.]]\n"
          ]
        }
      ]
    },
    {
      "cell_type": "code",
      "source": [
        "eig_val, eig_vect = np.linalg.eig(cov_matrix)"
      ],
      "metadata": {
        "id": "7Omxvmk8XJQh"
      },
      "execution_count": 28,
      "outputs": []
    },
    {
      "cell_type": "code",
      "source": [
        "print(eig_val)"
      ],
      "metadata": {
        "colab": {
          "base_uri": "https://localhost:8080/"
        },
        "id": "ILByeglRXms0",
        "outputId": "105ac200-62f3-4da2-d80b-d753b8b4460b"
      },
      "execution_count": 29,
      "outputs": [
        {
          "output_type": "stream",
          "name": "stdout",
          "text": [
            "[51.05699904 12.2824613   2.0885067   7.29887859]\n"
          ]
        }
      ]
    },
    {
      "cell_type": "code",
      "source": [
        "sorted_indices = np.argsort(eig_val)[::-1]\n",
        "sorted_eigval = eig_val[sorted_indices]\n",
        "sorted_eigvect = eig_vect[ sorted_indices, :]"
      ],
      "metadata": {
        "id": "RpQpOWGidmRN"
      },
      "execution_count": 30,
      "outputs": []
    },
    {
      "cell_type": "code",
      "source": [
        "print(sorted_eigvect)"
      ],
      "metadata": {
        "colab": {
          "base_uri": "https://localhost:8080/"
        },
        "id": "I--2EPVyd0cI",
        "outputId": "511af723-f4ea-409f-f62d-f9abfb4f15f3"
      },
      "execution_count": 31,
      "outputs": [
        {
          "output_type": "stream",
          "name": "stdout",
          "text": [
            "[[ 0.14509139  0.34384286 -0.32363032  0.8694734 ]\n",
            " [ 0.83746814 -0.39270497  0.3508219   0.14612981]\n",
            " [-0.17229599  0.45877685  0.8557637   0.1658505 ]\n",
            " [-0.49790531 -0.71908185  0.19963944  0.4417643 ]]\n"
          ]
        }
      ]
    },
    {
      "cell_type": "code",
      "source": [
        "sum_eigval = np.sum(eig_val)\n",
        "#print(sum_eigval)\n",
        "per_var1 = (sorted_eigval[0]/sum_eigval)*100\n",
        "per_var2 = (sorted_eigval[1]/sum_eigval)*100\n",
        "per_var3 = (sorted_eigval[2]/sum_eigval)*100\n",
        "per_var4 = (sorted_eigval[3]/sum_eigval)*100\n",
        "print(per_var1)\n",
        "print(per_var2)\n",
        "print(per_var3)\n",
        "print(per_var4)"
      ],
      "metadata": {
        "colab": {
          "base_uri": "https://localhost:8080/"
        },
        "id": "Z5vpfMwqecgO",
        "outputId": "c8d414db-3428-47d0-84f9-8cb8d161c047"
      },
      "execution_count": 32,
      "outputs": [
        {
          "output_type": "stream",
          "name": "stdout",
          "text": [
            "70.20378595717538\n",
            "16.888483462440355\n",
            "10.036017001461412\n",
            "2.871713578922851\n"
          ]
        }
      ]
    },
    {
      "cell_type": "markdown",
      "source": [
        "usually, we take the threshold value of 95%"
      ],
      "metadata": {
        "id": "EAKNYpm4ivCz"
      }
    },
    {
      "cell_type": "code",
      "source": [
        "#taking first three eigen vectors\n",
        "pc1 = sorted_eigvect[0,:]\n",
        "pc2 = sorted_eigvect[1,:]\n",
        "pc3 = sorted_eigvect[2,:]\n",
        "pc = []\n",
        "pc.append(pc1)\n",
        "pc.append(pc2)\n",
        "pc.append(pc3)\n",
        "pc = np.array(pc)\n",
        "print(pc)\n"
      ],
      "metadata": {
        "id": "w6m6eUU3epx-",
        "colab": {
          "base_uri": "https://localhost:8080/"
        },
        "outputId": "76560d5d-9b15-4912-971f-0156157ea322"
      },
      "execution_count": 57,
      "outputs": [
        {
          "output_type": "stream",
          "name": "stdout",
          "text": [
            "[[ 0.14509139  0.34384286 -0.32363032  0.8694734 ]\n",
            " [ 0.83746814 -0.39270497  0.3508219   0.14612981]\n",
            " [-0.17229599  0.45877685  0.8557637   0.1658505 ]]\n"
          ]
        }
      ]
    },
    {
      "cell_type": "code",
      "source": [
        "df['variance'] = df['variance'] - df['variance'].mean()\n",
        "df['skewness'] = df['skewness'] - df['skewness'].mean()\n",
        "df['kurtosis'] = df['kurtosis'] - df['kurtosis'].mean()\n",
        "df['entropy'] = df['entropy'] - df['entropy'].mean()"
      ],
      "metadata": {
        "id": "GKRPas8aOVxo"
      },
      "execution_count": 50,
      "outputs": []
    },
    {
      "cell_type": "code",
      "source": [
        "df_x = df.drop(['class'], axis=1)\n",
        "\n",
        "df_x = np.array(df_x)\n"
      ],
      "metadata": {
        "id": "qlYV-sRxMY2n"
      },
      "execution_count": 53,
      "outputs": []
    },
    {
      "cell_type": "code",
      "source": [
        "New_dataset = np.dot(pc, df_x.transpose())"
      ],
      "metadata": {
        "id": "vOKL0bwGMRaP"
      },
      "execution_count": 59,
      "outputs": []
    },
    {
      "cell_type": "code",
      "source": [
        "print(New_dataset)"
      ],
      "metadata": {
        "colab": {
          "base_uri": "https://localhost:8080/"
        },
        "id": "frZ7bqJJQFAM",
        "outputId": "15df3dea-1f30-4a4c-b074-4cdbec9b5b48"
      },
      "execution_count": 60,
      "outputs": [
        {
          "output_type": "stream",
          "name": "stdout",
          "text": [
            "[[  4.78963057   3.75680307  -0.1119018  ... -12.51557771  -7.76056047\n",
            "    0.33994545]\n",
            " [ -1.34493027  -0.40102274   5.03982886 ...   7.9862615    4.54329273\n",
            "   -0.6785177 ]\n",
            " [ -0.93030205  -1.18829894  -2.01777392 ...   7.2611041    5.35542999\n",
            "    0.82572911]]\n"
          ]
        }
      ]
    }
  ]
}